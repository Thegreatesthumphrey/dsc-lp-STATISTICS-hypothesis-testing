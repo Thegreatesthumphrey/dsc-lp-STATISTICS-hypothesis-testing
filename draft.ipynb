{
 "cells": [
  {
   "cell_type": "markdown",
   "metadata": {
    "slideshow": {
     "slide_type": "slide"
    }
   },
   "source": [
    "# Hypothesis testing "
   ]
  },
  {
   "cell_type": "markdown",
   "metadata": {
    "slideshow": {
     "slide_type": "notes"
    }
   },
   "source": [
    "Suppose you have a large dataset for a population. The data is normally distributed with mean 0 and standard deviation 1.\n",
    "\n",
    "Along comes a new sample with sample mean 2.9.\n",
    "\n",
    "The idea behind hypothesis testing is a desire to quantify our belief as to whether our sample of observations came from the same population as the original dataset. \n",
    "\n",
    "According to the empirical rule for normal distributions \n",
    "\n",
    "[IMAGE GOES HERE] \n",
    "\n",
    "there is only roughly a 0.003 chance that the sample came from the same population, because it is roughly 3 standard deviations above the mean. \n",
    "\n",
    "To formalize this intuition, we define an threshold value for deciding whether we believe that the sample is from the same underlying population or not. This threshold is $\\alpha$, the significance threshold.  This serves as the foundation for hypothesis testing where we will reject or fail to reject the null hypothesis. \n",
    "\n"
   ]
  },
  {
   "cell_type": "code",
   "execution_count": 1,
   "metadata": {
    "slideshow": {
     "slide_type": "notes"
    }
   },
   "outputs": [],
   "source": [
    "# imports \n",
    "import numpy as np\n",
    "import scipy.stats as stats \n",
    "import pandas as pd "
   ]
  },
  {
   "cell_type": "markdown",
   "metadata": {
    "slideshow": {
     "slide_type": "slide"
    }
   },
   "source": [
    "## Let's kick this off with an example\n",
    "\n",
    "Suppose that African elephants have weights distributed normally around a mean of 9000 lbs with a standard deviation of 900 lbs. \n",
    "\n",
    "Pachyderm Adventures has recently measured the weights of 35 Gabonese elephants and has calculated their average weight at 8637 lbs. \n",
    "\n",
    "Is the weight of Gabonese elephants different to the weight of African elephants? \n",
    "\n",
    "Use significance level $\\alpha = 0.05$. "
   ]
  },
  {
   "cell_type": "markdown",
   "metadata": {
    "slideshow": {
     "slide_type": "slide"
    }
   },
   "source": [
    "**What are the null and alternative hypotheses? What is the significance level?**"
   ]
  },
  {
   "cell_type": "markdown",
   "metadata": {
    "slideshow": {
     "slide_type": "notes"
    }
   },
   "source": [
    "* Null hypothesis: The weight of Gabonese elephants is the same as the weight of African elephants.\n",
    "\n",
    "* Alternative hypothesis: The weight of Gabonese elephants is different than the weight of African elephants.\n",
    "\n",
    "Significance level: $\\alpha = 0.05$"
   ]
  },
  {
   "cell_type": "markdown",
   "metadata": {
    "slideshow": {
     "slide_type": "slide"
    }
   },
   "source": [
    "**What should be our test statistic? What kind of statistical test should we run? Why?**"
   ]
  },
  {
   "cell_type": "markdown",
   "metadata": {
    "slideshow": {
     "slide_type": "notes"
    }
   },
   "source": [
    "* The test statistic for this test is the z-statistic. \n",
    "\n",
    "* Two-tailed one-sample z-test. \n",
    "    * We assume the data is normally distributed, the sample size $n \\geq 30$, and we know the population mean and standard deviation.\n",
    "    * It's a two-tailed test because we want to know if the weights are different. \n",
    "    \n"
   ]
  },
  {
   "cell_type": "markdown",
   "metadata": {
    "slideshow": {
     "slide_type": "notes"
    }
   },
   "source": [
    "**Decision rule**\n",
    "\n",
    "The decision rule tells us when we can reject the null hypothesis. \n",
    "\n",
    "It depends on 3 factors: \n",
    "1. The alternative hypothesis \n",
    "    * Is this an upper-tailed, lower-tailed, or two-tailed test?\n",
    "2. The test statistic \n",
    "3. The level of significance \n",
    "\n",
    "Upper-tailed test: \n",
    "* The null hypothesis is rejected if the test statistic is greater than the critical value. \n",
    "\n",
    "Lower-tailed test: \n",
    "* The null hypothesis is rejected if the test statistic is smaller than the critical value.\n",
    "\n",
    "Two-tailed test:\n",
    "* The null hypothesis is rejected if the test statistic is either larger than an upper critical value or smaller than a lower critical value."
   ]
  },
  {
   "cell_type": "markdown",
   "metadata": {
    "slideshow": {
     "slide_type": "slide"
    }
   },
   "source": [
    "**What's the critical test statistic value we should use?**"
   ]
  },
  {
   "cell_type": "markdown",
   "metadata": {
    "slideshow": {
     "slide_type": "notes"
    }
   },
   "source": [
    "We are dealing with a two-tailed one-sample z-test and our significance threshold $\\alpha$ is $\\alpha = 0.05$. \n",
    "\n",
    "Python code: "
   ]
  },
  {
   "cell_type": "code",
   "execution_count": 3,
   "metadata": {
    "slideshow": {
     "slide_type": "notes"
    }
   },
   "outputs": [
    {
     "data": {
      "text/plain": [
       "(-1.9599639845400545, 1.959963984540054)"
      ]
     },
     "execution_count": 3,
     "metadata": {},
     "output_type": "execute_result"
    }
   ],
   "source": [
    "alpha = 0.05\n",
    "stats.norm.ppf(alpha/2), stats.norm.ppf(1-alpha/2)"
   ]
  },
  {
   "cell_type": "markdown",
   "metadata": {
    "slideshow": {
     "slide_type": "notes"
    }
   },
   "source": [
    "> Since we are performing a two-tailed one-sample z-test, if the z-score we compute is greater than 1.96 or smaller than -1.96, then we can reject the null hypothesis at significance level 0.05 in favor of the alternative hypothesis. "
   ]
  },
  {
   "cell_type": "markdown",
   "metadata": {
    "slideshow": {
     "slide_type": "slide"
    }
   },
   "source": [
    "**Perform the test.**\n",
    "\n",
    "Compute the z-statistic. "
   ]
  },
  {
   "cell_type": "code",
   "execution_count": 4,
   "metadata": {
    "slideshow": {
     "slide_type": "notes"
    }
   },
   "outputs": [
    {
     "name": "stdout",
     "output_type": "stream",
     "text": [
      "-2.386152179183512\n"
     ]
    }
   ],
   "source": [
    "n = 35\n",
    "sigma = 900\n",
    "\n",
    "x_bar = 8637\n",
    "mu = 9000\n",
    "\n",
    "se = sigma/np.sqrt(n)\n",
    "z = (x_bar - mu)/se\n",
    "print(z)"
   ]
  },
  {
   "cell_type": "markdown",
   "metadata": {
    "slideshow": {
     "slide_type": "slide"
    }
   },
   "source": [
    "**Make a decision: do we reject the null hypothesis or not?**"
   ]
  },
  {
   "cell_type": "markdown",
   "metadata": {
    "slideshow": {
     "slide_type": "notes"
    }
   },
   "source": [
    "z is smaller than -1.96, thus we can reject the null hypothesis in favor of the alternative hypothesis at significance level $\\alpha = 0.05$. \n",
    "\n",
    "Another way of getting to same answer: "
   ]
  },
  {
   "cell_type": "code",
   "execution_count": 6,
   "metadata": {
    "scrolled": true,
    "slideshow": {
     "slide_type": "notes"
    }
   },
   "outputs": [
    {
     "data": {
      "text/plain": [
       "0.008512852080791552"
      ]
     },
     "execution_count": 6,
     "metadata": {},
     "output_type": "execute_result"
    }
   ],
   "source": [
    "stats.norm.cdf(z)"
   ]
  },
  {
   "cell_type": "markdown",
   "metadata": {},
   "source": [
    "The area of the tail corresponding to this z-score is 0.0085. This is below 0.025. Thus we reject the null hypothesis in favor of the alternative at significance level $\\alpha = 0.05$. "
   ]
  },
  {
   "cell_type": "markdown",
   "metadata": {
    "slideshow": {
     "slide_type": "slide"
    }
   },
   "source": [
    "**Would we be able to reject the null hypothesis if our significance threshold was $\\alpha = 0.01$?**"
   ]
  },
  {
   "cell_type": "markdown",
   "metadata": {
    "slideshow": {
     "slide_type": "notes"
    }
   },
   "source": [
    "To reject the null hypothesis at $\\alpha = 0.01$, the areas of the two-tails need to add up to 0.01. "
   ]
  },
  {
   "cell_type": "code",
   "execution_count": 7,
   "metadata": {
    "slideshow": {
     "slide_type": "notes"
    }
   },
   "outputs": [
    {
     "name": "stdout",
     "output_type": "stream",
     "text": [
      "0.005\n"
     ]
    }
   ],
   "source": [
    "alpha = 0.01\n",
    "print(alpha/2)"
   ]
  },
  {
   "cell_type": "markdown",
   "metadata": {
    "slideshow": {
     "slide_type": "notes"
    }
   },
   "source": [
    "The area of the tail corresponding to z = -2.386 is `stats.norm.cdf(z) = 0.0085`. \n",
    "\n",
    "> Since the area of the tail corresponding to the z-score we obtained is 0.0085, which is greater than 0.005, we cannot reject the null hypothesis in favor of the alternative at a significance level of $\\alpha = 0.01$. "
   ]
  },
  {
   "cell_type": "markdown",
   "metadata": {
    "slideshow": {
     "slide_type": "slide"
    }
   },
   "source": [
    "**What if we wanted to test if the weight of Gabonese elephants was smaller than the weight of African elephants at a significance level of 0.05?**"
   ]
  },
  {
   "cell_type": "markdown",
   "metadata": {
    "slideshow": {
     "slide_type": "slide"
    }
   },
   "source": [
    "What are the null and alternative hypothesis in this case? "
   ]
  },
  {
   "cell_type": "markdown",
   "metadata": {
    "slideshow": {
     "slide_type": "notes"
    }
   },
   "source": [
    "* Null hypothesis: The weight of Gabonese elephants is greater than or equal to the weight of African elephants.\n",
    "\n",
    "* Alternative hypothesis: The weight of Gabonese elephants is less than the weight of African elephants."
   ]
  },
  {
   "cell_type": "markdown",
   "metadata": {
    "slideshow": {
     "slide_type": "slide"
    }
   },
   "source": [
    "What kind of test do we need to run?"
   ]
  },
  {
   "cell_type": "markdown",
   "metadata": {
    "slideshow": {
     "slide_type": "notes"
    }
   },
   "source": [
    "> We need to run a lower-tailed one-sample z-test. "
   ]
  },
  {
   "cell_type": "markdown",
   "metadata": {
    "slideshow": {
     "slide_type": "slide"
    }
   },
   "source": [
    "What's the critical test statistic value we should use? "
   ]
  },
  {
   "cell_type": "code",
   "execution_count": 10,
   "metadata": {
    "slideshow": {
     "slide_type": "notes"
    }
   },
   "outputs": [
    {
     "data": {
      "text/plain": [
       "-1.6448536269514729"
      ]
     },
     "execution_count": 10,
     "metadata": {},
     "output_type": "execute_result"
    }
   ],
   "source": [
    "z_critical = stats.norm.ppf(0.05)\n",
    "z_critical"
   ]
  },
  {
   "cell_type": "markdown",
   "metadata": {
    "slideshow": {
     "slide_type": "slide"
    }
   },
   "source": [
    "**Perform the test.**\n",
    "\n",
    "Compute the z-statistic."
   ]
  },
  {
   "cell_type": "code",
   "execution_count": 11,
   "metadata": {
    "slideshow": {
     "slide_type": "notes"
    }
   },
   "outputs": [
    {
     "name": "stdout",
     "output_type": "stream",
     "text": [
      "-2.386152179183512\n"
     ]
    }
   ],
   "source": [
    "n = 35\n",
    "sigma = 900\n",
    "\n",
    "x_bar = 8637\n",
    "mu = 9000\n",
    "\n",
    "se = sigma/np.sqrt(n)\n",
    "z = (x_bar - mu)/se\n",
    "print(z)"
   ]
  },
  {
   "cell_type": "markdown",
   "metadata": {
    "slideshow": {
     "slide_type": "notes"
    }
   },
   "source": [
    "> Our z-statistic is smaller than the critical z-statistic, thus we can reject the null hypothesis in favor of the alternative, at a significance level of 0.05. \n",
    "\n",
    "Alternatively:"
   ]
  },
  {
   "cell_type": "code",
   "execution_count": 12,
   "metadata": {
    "slideshow": {
     "slide_type": "notes"
    }
   },
   "outputs": [
    {
     "data": {
      "text/plain": [
       "0.008512852080791552"
      ]
     },
     "execution_count": 12,
     "metadata": {},
     "output_type": "execute_result"
    }
   ],
   "source": [
    "stats.norm.cdf(z)"
   ]
  },
  {
   "cell_type": "markdown",
   "metadata": {
    "slideshow": {
     "slide_type": "notes"
    }
   },
   "source": [
    ">The area under the tail corresponding to this z-score is below 0.05. Thus we can reject the null in favor of the alternative hypothesis at $\\alpha =0.05$. "
   ]
  },
  {
   "cell_type": "markdown",
   "metadata": {
    "slideshow": {
     "slide_type": "slide"
    }
   },
   "source": [
    "**Would we be able to reject the null hypothesis in this case if the significance level was $\\alpha = 0.01$?**"
   ]
  },
  {
   "cell_type": "markdown",
   "metadata": {
    "slideshow": {
     "slide_type": "notes"
    }
   },
   "source": [
    "> Yes, since the area under the tail is below 0.01. "
   ]
  },
  {
   "cell_type": "markdown",
   "metadata": {
    "slideshow": {
     "slide_type": "slide"
    }
   },
   "source": [
    "# Hypothesis testing \n",
    "\n",
    "Regardless of the type of statistical hypothesis test you're performing, there are five main steps to executing them:\n",
    "\n",
    "1. Set up a null and alternative hypothesis \n",
    "\n",
    "2. Choose a significance level $\\alpha$ (or use the one assigned). \n",
    "\n",
    "3. Calculate the appropriate test statistic. \n",
    "\n",
    "4. Determine the critical test statistic value or p-value. Find the rejection region. \n",
    "\n",
    "5. Compare the test statistic value to the critical test statistic value to accept or reject the null hypothesis. "
   ]
  },
  {
   "cell_type": "markdown",
   "metadata": {
    "slideshow": {
     "slide_type": "notes"
    }
   },
   "source": [
    "# Language of Hypothesis testing \n",
    "\n",
    "**Significance Level $\\alpha$**\n",
    "\n",
    "The significance level $\\alpha$ is the threshold at which you're okay with rejecting the null hypothesis. It is the probability of rejecting the null hypothesis when it is true. \n",
    "\n",
    "The most commonly used $\\alpha$ in science is $\\alpha = 0.05$. When you set $\\alpha = 0.05$, you're saying \"I'm okay with rejecting the null hypothesis if there is less than a 5% chance that the results I am seeing are actually due to randomness\". \n",
    "\n",
    "**p-values**\n",
    "\n",
    "The p-value is the probability of observing a test statistic at least as large as the one observed, by random chance, assuming that the null hypothesis is true. \n",
    "\n",
    "If $p \\lt \\alpha$, we reject the null hypothesis. \n",
    "\n",
    "If $p \\geq \\alpha$, we fail to reject the null hypothesis.\n",
    "\n",
    "> **We do not accept the alternative hypothesis, we only reject or fail to reject the null hypothesis in favor of the alternative.**\n",
    "\n",
    "\n",
    "**What if the experiment we perform fails to reject the null hypothesis?**\n",
    "\n",
    "* We do not throw out failed experiments! \n",
    "* We say \"this methodology, with this data, does not produce significant results\" \n",
    "    * Maybe we need more data!"
   ]
  },
  {
   "cell_type": "markdown",
   "metadata": {
    "slideshow": {
     "slide_type": "slide"
    }
   },
   "source": [
    "# z-tests vs t-tests\n",
    "\n",
    "## Why Z vs T? \n",
    "\n",
    "When you take smaller samples, you can expect greater variance.\n",
    "\n",
    "The T-distribution has heavier tails, upper and lower, than the normal distribution, and as such is appropriate for this situation. \n",
    "\n",
    "The number of observations in your sample is related to the degrees of freedom in the t-distribution. \n",
    "\n",
    "The degrees of freedom $\\text{df}$ of a sample of size $n$ is $\\text{df} = n-1$. Moreover, as the number of observations (or the degrees of freedom) increases, the T-distribution converges to a normal distribution. \n",
    "\n",
    "[insert image of t-distributions with increasing dofs superimposed on a std normal distribution]"
   ]
  },
  {
   "cell_type": "markdown",
   "metadata": {},
   "source": [
    "## When do we use z-tests?\n",
    "* The z-test is used when you want to know if your sample comes from a particular population, your sample is large enough (size $\\geq$ 30), and you know the population standard deviation. a"
   ]
  },
  {
   "cell_type": "markdown",
   "metadata": {},
   "source": [
    "## When do we use t-tests? \n",
    "t-tests are used when you do not know the population standard deviation or when you have small sample sizes (size $\\lt$ 30). \n"
   ]
  },
  {
   "cell_type": "markdown",
   "metadata": {},
   "source": [
    "## Compare and contrast z-tests and t-tests. \n",
    "In both cases, it is assumed that the samples are normally distributed. \n",
    "\n",
    "A t-test is like a modified z-test:\n",
    "1. Penalize for small sample size; use \"degrees of freedom\" \n",
    "2. Use the _sample_ standard deviation $s$ to estimate the population standard deviation $\\sigma$. \n",
    "\n",
    "T-distributions have more probability in the tails. As the sample size increases, this decreases and the t distribution more closely resembles the z, or standard normal, distribution. By sample size n = 1000 they are virtually indistinguishable from each other. "
   ]
  },
  {
   "cell_type": "markdown",
   "metadata": {},
   "source": [
    "# Examples\n",
    "\n",
    "Let's work on another example. \n",
    "\n",
    "1. Given the following data, we want to know if the sample is different from the population: "
   ]
  },
  {
   "cell_type": "code",
   "execution_count": null,
   "metadata": {},
   "outputs": [],
   "source": [
    "population_mean = 85\n",
    "sample = [90, 100, 110]"
   ]
  },
  {
   "cell_type": "markdown",
   "metadata": {},
   "source": [
    "State the null and alternative hypothesis: "
   ]
  },
  {
   "cell_type": "markdown",
   "metadata": {},
   "source": [
    "> Null hypothesis: $H_0$: The sample mean is the same as the population mean. \n",
    "\n",
    "> Alternative hypothesis: $H_1$: The sample mean is not the same as the population mean. "
   ]
  },
  {
   "cell_type": "markdown",
   "metadata": {},
   "source": [
    "What type of hypothesis test do we want to perform and why? "
   ]
  },
  {
   "cell_type": "markdown",
   "metadata": {},
   "source": [
    "> We want to perform a two-sided one-sample t-test. We do not know the population standard deviation, so we need to estimate it, and our sample size is small (n = 3). "
   ]
  },
  {
   "cell_type": "code",
   "execution_count": null,
   "metadata": {},
   "outputs": [],
   "source": [
    "# Using scipy\n",
    "stats.ttest_1samp(a=sample, popmean=population_mean)"
   ]
  },
  {
   "cell_type": "code",
   "execution_count": null,
   "metadata": {},
   "outputs": [],
   "source": [
    "# By \"hand\"\n",
    "mu = 85 \n",
    "x_bar = np.mean(sample)\n",
    "n = len(sample)\n",
    "s = np.std(sample, ddof=1)\n",
    "df = n-1\n",
    "\n",
    "t = (x_bar - mu)/(s/n**0.5)\n",
    "print(t)\n",
    "print(df)"
   ]
  },
  {
   "cell_type": "markdown",
   "metadata": {},
   "source": [
    "Another example: \n",
    "\n",
    "2. I'm buying jeans from store A and store B. I know nothing about their inventory other than prices. \n",
    "\n",
    "``` python\n",
    "store1 = [20,30,30,50,75,25,30,30,40,80]\n",
    "store2 = [60,30,70,90,60,40,70,40]\n",
    "```\n",
    "\n",
    "Should I go just to one store for a less expensive pair of jeans? I'm pretty apprehensive about my decision, so $\\alpha = 0.1$. It's okay to assume the samples have equal variances, for now. "
   ]
  },
  {
   "cell_type": "markdown",
   "metadata": {},
   "source": [
    "State the null and alternative hypotheses: \n",
    "\n",
    "> Null: Store A and B have the same jean prices. \n",
    "\n",
    "> Alternative: Store A and B do not have the same jean prices. "
   ]
  },
  {
   "cell_type": "markdown",
   "metadata": {},
   "source": [
    "What kind of test should we run? Why? Use `scipy` to perform your test. \n",
    "\n",
    "> Run a two-tailed two independent sample t-test. Sample sizes are small. "
   ]
  },
  {
   "cell_type": "code",
   "execution_count": null,
   "metadata": {},
   "outputs": [],
   "source": [
    "store1 = [20,30,30,50,75,25,30,30,40,80]\n",
    "store2 = [60,30,70,90,60,40,70,40]\n",
    "\n",
    "stats.ttest_ind(store1, store2)"
   ]
  },
  {
   "cell_type": "markdown",
   "metadata": {},
   "source": [
    "We fail to reject the null hypothesis at a significance level of $\\alpha = 0.1$. We do not have evidence to support that jean prices are different in store A and store B. "
   ]
  },
  {
   "cell_type": "markdown",
   "metadata": {},
   "source": [
    "**3. More practice:**\n",
    "\n",
    ">A rental car company claims the mean time to rent a car on their website is 60 seconds with a standard deviation of 30 seconds. A random sample of 36 customers attempted to rent a car on the website. The mean time to rent was 75 seconds. Is this enough evidence to contradict the company's claim at a significance level of $\\alpha = 0.05$? "
   ]
  },
  {
   "cell_type": "markdown",
   "metadata": {},
   "source": [
    "We know the population standard deviation and our sample size n $\\geq$ 30. \n",
    "* We are going to perform a two-tailed one-sample z-test at a significance level of $\\alpha=0.05$. \n",
    "\n",
    "Null hypothesis: There is no difference in the mean time to rent of the sample and the claim by the rental company. \n",
    "\n",
    "Alternative hypothesis: There is a difference in the mean time to rent of the sample and the claim by the rental company. \n",
    "\n",
    "For a two-sided one-sample test and $\\alpha = 0.05$, the critical z-scores are -1.96 and 1.96. That is, if our computed z-statistic is below -1.96 or above 1.96, we have enough evidence to reject the null hypothesis in favor of the alternative.\n",
    "\n"
   ]
  },
  {
   "cell_type": "code",
   "execution_count": null,
   "metadata": {},
   "outputs": [],
   "source": [
    "# one-sample z-test \n",
    "z = (75 - 60)/(30/np.sqrt(36))\n",
    "print(z)"
   ]
  },
  {
   "cell_type": "markdown",
   "metadata": {},
   "source": [
    "The z-statistic is greater than 1.96, thus we can reject the null hypothesis in favor of the alternative hypothesis, at $\\alpha = 0.05$.  "
   ]
  },
  {
   "cell_type": "markdown",
   "metadata": {},
   "source": [
    "**4. Another example:** \n",
    "\n",
    "> A coffee shop relocates from Manhattan to Brooklyn and wants to make sure that all lattes are consistent. They believe each latte has 4 oz of espresso. A random sample of 25 lattes shows a mean of 4.6 oz and standard deviation of 0.22 oz. Are their lattes different now that they've relocated to Brooklyn? Use alpha = 0.05. "
   ]
  },
  {
   "cell_type": "markdown",
   "metadata": {},
   "source": [
    "State null and alternative hypothesis\n",
    "1. Null: the amount of espresso in the lattes is the same as before \n",
    "2. Alternative: the amount of espresso in the lattes is different \n",
    "\n",
    "What kind of test? \n",
    "* two-tailed one-sample t-test\n",
    "    * small sample size\n",
    "    * unknown population standard deviation \n",
    "    * two-tailed because we want to know if amounts are same or different "
   ]
  },
  {
   "cell_type": "code",
   "execution_count": null,
   "metadata": {},
   "outputs": [],
   "source": [
    "x_bar = 4.6 \n",
    "mu = 4 \n",
    "s = 0.22 \n",
    "n = 25 \n",
    "\n",
    "df = n-1\n",
    "\n",
    "t = (x_bar - mu)/(s/n**0.5)\n",
    "t"
   ]
  },
  {
   "cell_type": "markdown",
   "metadata": {},
   "source": [
    "is this value in a rejection region? "
   ]
  },
  {
   "cell_type": "code",
   "execution_count": null,
   "metadata": {},
   "outputs": [],
   "source": [
    "# critical values\n",
    "stats.t.ppf(1-0.975, df), stats.t.ppf(0.975, df)"
   ]
  },
  {
   "cell_type": "markdown",
   "metadata": {},
   "source": [
    "Yes. t > |t_critical|. we can reject the null hypothesis in favor of the alternative at $\\alpha = 0.05$. "
   ]
  },
  {
   "cell_type": "code",
   "execution_count": null,
   "metadata": {},
   "outputs": [],
   "source": []
  },
  {
   "cell_type": "markdown",
   "metadata": {},
   "source": [
    "**5. Another example**\n",
    "\n",
    "You measure the delivery times of two different restaurants in your neighborhood, ten times each. You want to know if the restaurants have different delivery times.  It's okay to assume both samples have equal variances. Set your significance threshold to 0.05. \n",
    "\n",
    "``` python\n",
    "delivery_times_A = [28.4, 23.3, 30.4, 28.1, 29.4, 30.6, 27.8, 30.9, 27.0, 32.8]\n",
    "delivery_times_B = [26.4, 26.3, 27.4, 30.4, 25.1, 28.4, 23.3, 24.7, 31.8, 24.3]\n",
    "```"
   ]
  },
  {
   "cell_type": "markdown",
   "metadata": {},
   "source": [
    "State null and alternative hypothesis"
   ]
  },
  {
   "cell_type": "markdown",
   "metadata": {},
   "source": [
    "> Null hypothesis: The delivery times for restaurant A are equal to delivery times for restaurant B. \n",
    "\n",
    "> Alternative hypothesis: Delivery times for restaurant A are not equal to delivery times for restaurant B. "
   ]
  },
  {
   "cell_type": "markdown",
   "metadata": {},
   "source": [
    "Type of test? "
   ]
  },
  {
   "cell_type": "markdown",
   "metadata": {},
   "source": [
    "> Two-sided unpaired two-sample t-test"
   ]
  },
  {
   "cell_type": "code",
   "execution_count": null,
   "metadata": {},
   "outputs": [],
   "source": [
    "delivery_times_A = [28.4, 23.3, 30.4, 28.1, 29.4, 30.6, 27.8, 30.9, 27.0, 32.8]\n",
    "delivery_times_B = [26.4, 26.3, 27.4, 30.4, 25.1, 28.4, 23.3, 24.7, 31.8, 24.3]"
   ]
  },
  {
   "cell_type": "code",
   "execution_count": null,
   "metadata": {},
   "outputs": [],
   "source": [
    "stats.ttest_ind(delivery_times_A, delivery_times_B)"
   ]
  },
  {
   "cell_type": "markdown",
   "metadata": {},
   "source": [
    "We cannot reject the null hypothesis that restaurant A and B have equal delivery times. pvalue > 0.05. "
   ]
  },
  {
   "cell_type": "markdown",
   "metadata": {},
   "source": [
    "**6. Example, again**\n",
    "\n",
    "Consider the gain in weight of 19 female rats between 28 and 84 days after birth. \n",
    "\n",
    "12 were fed on a high protein diet and 7 on a low protein diet. "
   ]
  },
  {
   "cell_type": "code",
   "execution_count": null,
   "metadata": {},
   "outputs": [],
   "source": [
    "high_protein = [134, 146, 104, 119, 124, 161, 107, 83, 113, 129, 97, 123]\n",
    "low_protein = [70, 118, 101, 85, 107, 132, 94]"
   ]
  },
  {
   "cell_type": "markdown",
   "metadata": {},
   "source": [
    "Is there any difference in the weight gain of rats fed on high protein diet vs low protein diet? It's OK to assume equal sample variances. "
   ]
  },
  {
   "cell_type": "markdown",
   "metadata": {},
   "source": [
    "Null and alternative hypotheses? "
   ]
  },
  {
   "cell_type": "markdown",
   "metadata": {},
   "source": [
    "> null: there is no difference in the weight gain of rats who were fed a high protein diet vs a low protein diet \n",
    "\n",
    "> alternative: weight gains differ by kind of diet "
   ]
  },
  {
   "cell_type": "markdown",
   "metadata": {},
   "source": [
    "Kind of test and why?"
   ]
  },
  {
   "cell_type": "markdown",
   "metadata": {},
   "source": [
    "> Two-sided unpaired two-sample t-test. Low sample size. Unknown population stdev. "
   ]
  },
  {
   "cell_type": "code",
   "execution_count": null,
   "metadata": {},
   "outputs": [],
   "source": [
    "stats.ttest_ind(high_protein, low_protein)"
   ]
  },
  {
   "cell_type": "code",
   "execution_count": null,
   "metadata": {},
   "outputs": [],
   "source": [
    "def sample_variance(sample):\n",
    "    sample_mean = np.mean(sample)\n",
    "    return np.sum((sample - sample_mean)**2)/(len(sample) - 1)\n",
    "\n",
    "def pooled_variance(sample1, sample2):\n",
    "    n1, n2 = len(sample1), len(sample2)\n",
    "    var1, var2 = sample_variance(sample1), sample_variance(sample2)\n",
    "    return ((n1 -1)*var1 + (n2-1)*var2)/(n1+n2-2)\n",
    "\n",
    "def twosample_tstatistic(sample1, sample2):\n",
    "    mean_1, mean_2 = np.mean(sample1), np.mean(sample2)\n",
    "    pool_var = pooled_variance(sample1, sample2)\n",
    "    n_1, n_2 = len(sample1), len(sample2)\n",
    "    num = mean_1 - mean_2\n",
    "    denom = np.sqrt(pool_var* ((1/n_1) + (1/n_2)))\n",
    "    return num/denom"
   ]
  },
  {
   "cell_type": "code",
   "execution_count": null,
   "metadata": {},
   "outputs": [],
   "source": [
    "twosample_tstatistic(high_protein, low_protein)"
   ]
  },
  {
   "cell_type": "code",
   "execution_count": null,
   "metadata": {},
   "outputs": [],
   "source": [
    "stats.t.ppf(q=0.975, df = len(sample1) + len(sample2) - 2)"
   ]
  },
  {
   "cell_type": "markdown",
   "metadata": {},
   "source": [
    "> Cannot reject null hypothesis at alpha = 0.05 level (two-sided test)."
   ]
  },
  {
   "cell_type": "markdown",
   "metadata": {},
   "source": [
    "What if we wanted to test if the rats who ate a high protein diet gained more weight than those who ate a low-protein diet? "
   ]
  },
  {
   "cell_type": "markdown",
   "metadata": {},
   "source": [
    "Null: weight gain by rats who ate high protein diet less than or equal to weight gain of low protein diet rats \n",
    "\n",
    "alternative: weight gain by rats who ate high protein diet greater than weight gain of low protein diet rats "
   ]
  },
  {
   "cell_type": "markdown",
   "metadata": {},
   "source": [
    "Kind of test? One-sided unpaired two-sample test "
   ]
  },
  {
   "cell_type": "code",
   "execution_count": null,
   "metadata": {},
   "outputs": [],
   "source": [
    "stats.t.ppf(q=0.95, df = len(sample1)+len(sample2)-2) #critical t-statistic "
   ]
  },
  {
   "cell_type": "markdown",
   "metadata": {},
   "source": [
    "Can reject the null hypothesis in favor of the alternative at alpha = 0.05, one-sided test. "
   ]
  },
  {
   "cell_type": "code",
   "execution_count": null,
   "metadata": {},
   "outputs": [],
   "source": [
    "!pwd"
   ]
  },
  {
   "cell_type": "code",
   "execution_count": null,
   "metadata": {},
   "outputs": [],
   "source": []
  }
 ],
 "metadata": {
  "celltoolbar": "Slideshow",
  "kernelspec": {
   "display_name": "Python [conda env:learn-env] *",
   "language": "python",
   "name": "conda-env-learn-env-py"
  },
  "language_info": {
   "codemirror_mode": {
    "name": "ipython",
    "version": 3
   },
   "file_extension": ".py",
   "mimetype": "text/x-python",
   "name": "python",
   "nbconvert_exporter": "python",
   "pygments_lexer": "ipython3",
   "version": "3.6.6"
  },
  "toc": {
   "base_numbering": 1,
   "nav_menu": {},
   "number_sections": true,
   "sideBar": true,
   "skip_h1_title": false,
   "title_cell": "Table of Contents",
   "title_sidebar": "Contents",
   "toc_cell": false,
   "toc_position": {},
   "toc_section_display": true,
   "toc_window_display": false
  }
 },
 "nbformat": 4,
 "nbformat_minor": 2
}
