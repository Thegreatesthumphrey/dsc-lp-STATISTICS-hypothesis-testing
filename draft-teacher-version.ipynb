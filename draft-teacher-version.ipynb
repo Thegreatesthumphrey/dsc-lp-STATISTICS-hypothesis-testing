{
 "cells": [
  {
   "cell_type": "markdown",
   "metadata": {
    "slideshow": {
     "slide_type": "slide"
    }
   },
   "source": [
    "# Hypothesis testing "
   ]
  },
  {
   "cell_type": "markdown",
   "metadata": {
    "slideshow": {
     "slide_type": "slide"
    }
   },
   "source": [
    "**What is statistical hypothesis testing?**\n",
    "\n",
    "When we perform experiments, we typically do not have access to all the members of a population, and need to take **samples** of measurements. \n",
    "\n",
    "A statistical hypothesis test is a method for testing a hypothesis about a parameter in a population using data measured in a sample. \n",
    "\n",
    "We test a hypothesis by determining the chance of obtaining a sample statistic if the hypothesis regarding the population parameter is true. \n",
    "\n",
    "> The goal of hypothesis testing is to make a decision about the value of a population parameter based on sample data.\n",
    "\n",
    "**Why do we care about hypothesis testing?**\n",
    "\n",
    "Scenarios: \n",
    "* Chemistry - do inputs from two different barley fields produce different yields?\n",
    "* Astrophysics - do star systems with near-orbiting gas giants have hotter stars?\n",
    "* Economics - demography, surveys, etc.\n",
    "* Medicine - BMI vs. Hypertension, etc.\n",
    "* Business - which ad is more effective given engagement?\n",
    "\n"
   ]
  },
  {
   "cell_type": "markdown",
   "metadata": {
    "slideshow": {
     "slide_type": "notes"
    }
   },
   "source": [
    "**Intuition** \n",
    "\n",
    "Suppose you have a large dataset for a population. The data is normally distributed with mean 0 and standard deviation 1.\n",
    "\n",
    "Along comes a new sample with a sample mean of 2.9.\n",
    "\n",
    "> The idea behind hypothesis testing is a desire to quantify our belief as to whether our sample of observations came from the same population as the original dataset. \n",
    "\n",
    "According to the empirical rule for normal distributions there is only roughly a 0.003 chance that the sample came from the same population, because it is roughly 3 standard deviations above the mean. \n",
    "\n",
    "\n",
    "<img src=\"images/normal_sd_new.png\" width=\"500\">\n",
    " \n",
    "To formalize this intuition, we define an threshold value for deciding whether we believe that the sample is from the same underlying population or not. This threshold is $\\alpha$, the **significance threshold**.  \n",
    "\n",
    "This serves as the foundation for hypothesis testing where we will reject or fail to reject the null hypothesis.\n"
   ]
  },
  {
   "cell_type": "code",
   "execution_count": 1,
   "metadata": {
    "slideshow": {
     "slide_type": "notes"
    }
   },
   "outputs": [],
   "source": [
    "# imports \n",
    "import numpy as np\n",
    "import scipy.stats as stats \n",
    "import pandas as pd "
   ]
  },
  {
   "cell_type": "markdown",
   "metadata": {
    "slideshow": {
     "slide_type": "slide"
    }
   },
   "source": [
    "## Let's kick-off our discussion off with an example! \n",
    "\n",
    "Suppose that African elephants have weights distributed normally around a mean of 9000 lbs with a standard deviation of 900 lbs. _Pachyderm Adventures_ has recently measured the weights of **35** Gabonese elephants and has calculated their average weight at 8637 lbs. \n",
    "\n",
    "Is the weight of Gabonese elephants different that the weight of African elephants? Use significance level $\\alpha = 0.05$. "
   ]
  },
  {
   "cell_type": "markdown",
   "metadata": {
    "slideshow": {
     "slide_type": "slide"
    }
   },
   "source": [
    "**What are the null and alternative hypotheses? What is the significance level?**"
   ]
  },
  {
   "cell_type": "markdown",
   "metadata": {
    "slideshow": {
     "slide_type": "notes"
    }
   },
   "source": [
    "* Null hypothesis\n",
    "    * The average weight of Gabonese elephants is the same as the average weight of African elephants.\n",
    "\n",
    "* Alternative hypothesis\n",
    "    * The average weight of Gabonese elephants is different than the average weight of African elephants.\n",
    "\n",
    "Significance level: $\\alpha = 0.05$"
   ]
  },
  {
   "cell_type": "markdown",
   "metadata": {
    "slideshow": {
     "slide_type": "slide"
    }
   },
   "source": [
    "**What should be our test statistic? Are we running an upper, lower, or two-tailed test? Why?**"
   ]
  },
  {
   "cell_type": "markdown",
   "metadata": {
    "slideshow": {
     "slide_type": "notes"
    }
   },
   "source": [
    "* The test statistic for this test is the z-statistic. We are running a two-tailed one-sample z-test. \n",
    "    * The sample size $n \\geq 30$, and we know the population mean and standard deviation. We assume that the data is normally distributed. \n",
    "    * It's a two-tailed test because we want to know if the weights are _different_. \n",
    "    \n"
   ]
  },
  {
   "cell_type": "markdown",
   "metadata": {
    "slideshow": {
     "slide_type": "slide"
    }
   },
   "source": [
    "**What's the critical test statistic value we should use?**"
   ]
  },
  {
   "cell_type": "markdown",
   "metadata": {
    "slideshow": {
     "slide_type": "notes"
    }
   },
   "source": [
    "**Note to instructors**:\n",
    "\n",
    "At this point, you may want to clarify what decision rules look like for lower, upper, and two-tailed tests.\n",
    "\n",
    "**Decision Rule**: \n",
    "\n",
    "The decision rule tells us when we can reject the null hypothesis. \n",
    "\n",
    "It depends on 3 factors: \n",
    "1. The alternative hypothesis \n",
    "    * Is this an upper-tailed, lower-tailed, or two-tailed test?\n",
    "2. The test statistic \n",
    "3. The level of significance \n",
    "\n",
    "Upper-tailed test (right-tailed test): \n",
    "* The null hypothesis is rejected if the test statistic is greater than the critical value. \n",
    "\n",
    "Lower-tailed test (left-tailed test): \n",
    "* The null hypothesis is rejected if the test statistic is smaller than the critical value.\n",
    "\n",
    "Two-tailed test:\n",
    "* The null hypothesis is rejected if the test statistic is either larger than an upper critical value or smaller than a lower critical value.\n",
    "\n",
    "<img src=\"images/hypothesis_test.png\" width=\"500\">"
   ]
  },
  {
   "cell_type": "code",
   "execution_count": 2,
   "metadata": {
    "slideshow": {
     "slide_type": "notes"
    }
   },
   "outputs": [
    {
     "data": {
      "text/plain": [
       "(-1.9599639845400545, 1.959963984540054)"
      ]
     },
     "execution_count": 2,
     "metadata": {},
     "output_type": "execute_result"
    }
   ],
   "source": [
    "# critical z-statistic\n",
    "alpha = 0.05\n",
    "stats.norm.ppf(alpha/2), stats.norm.ppf(1-alpha/2)"
   ]
  },
  {
   "cell_type": "markdown",
   "metadata": {
    "slideshow": {
     "slide_type": "notes"
    }
   },
   "source": [
    "> Since we are performing a two-tailed one-sample z-test and $\\alpha = 0.05$, if the z-score we compute is greater than 1.96 or smaller than -1.96, then we can reject the null hypothesis at significance level 0.05 in favor of the alternative hypothesis. "
   ]
  },
  {
   "cell_type": "markdown",
   "metadata": {
    "slideshow": {
     "slide_type": "slide"
    }
   },
   "source": [
    "**Perform the test.**\n",
    "\n",
    "Compute the z-statistic. "
   ]
  },
  {
   "cell_type": "code",
   "execution_count": 3,
   "metadata": {
    "slideshow": {
     "slide_type": "notes"
    }
   },
   "outputs": [
    {
     "name": "stdout",
     "output_type": "stream",
     "text": [
      "-2.386152179183512\n"
     ]
    }
   ],
   "source": [
    "n = 35\n",
    "sigma = 900\n",
    "\n",
    "x_bar = 8637\n",
    "mu = 9000\n",
    "\n",
    "se = sigma/np.sqrt(n)\n",
    "z = (x_bar - mu)/se\n",
    "print(z)"
   ]
  },
  {
   "cell_type": "markdown",
   "metadata": {
    "slideshow": {
     "slide_type": "slide"
    }
   },
   "source": [
    "**Make a decision: do we reject the null hypothesis or not?**"
   ]
  },
  {
   "cell_type": "markdown",
   "metadata": {
    "slideshow": {
     "slide_type": "notes"
    }
   },
   "source": [
    "> z = -2.39 is smaller than -1.96, thus we can reject the null hypothesis in favor of the alternative hypothesis at significance level $\\alpha = 0.05$. \n",
    "- - -\n",
    "\n",
    "Another way of getting to same answer: "
   ]
  },
  {
   "cell_type": "code",
   "execution_count": 4,
   "metadata": {
    "scrolled": true,
    "slideshow": {
     "slide_type": "notes"
    }
   },
   "outputs": [
    {
     "data": {
      "text/plain": [
       "0.008512852080791552"
      ]
     },
     "execution_count": 4,
     "metadata": {},
     "output_type": "execute_result"
    }
   ],
   "source": [
    "stats.norm.cdf(z)"
   ]
  },
  {
   "cell_type": "markdown",
   "metadata": {
    "slideshow": {
     "slide_type": "notes"
    }
   },
   "source": [
    "> The area of the tail corresponding to this z-score is 0.0085. This is below 0.025. Thus we reject the null hypothesis in favor of the alternative at significance level $\\alpha = 0.05$. "
   ]
  },
  {
   "cell_type": "markdown",
   "metadata": {
    "slideshow": {
     "slide_type": "slide"
    }
   },
   "source": [
    "**Would we be able to reject the null hypothesis if our significance threshold was $\\alpha = 0.01$?**"
   ]
  },
  {
   "cell_type": "code",
   "execution_count": 5,
   "metadata": {
    "slideshow": {
     "slide_type": "notes"
    }
   },
   "outputs": [
    {
     "name": "stdout",
     "output_type": "stream",
     "text": [
      "0.005\n"
     ]
    }
   ],
   "source": [
    "alpha = 0.01\n",
    "print(alpha/2)"
   ]
  },
  {
   "cell_type": "markdown",
   "metadata": {
    "slideshow": {
     "slide_type": "notes"
    }
   },
   "source": [
    "The area of the tail corresponding to z = -2.386 is `stats.norm.cdf(z) = 0.0085`. \n",
    "\n",
    "> Since the area of the tail corresponding to the z-score we obtained is 0.0085, which is greater than 0.005, we cannot reject the null hypothesis in favor of the alternative at a significance level of $\\alpha = 0.01$. "
   ]
  },
  {
   "cell_type": "markdown",
   "metadata": {
    "slideshow": {
     "slide_type": "slide"
    }
   },
   "source": [
    "What if we wanted to test if the average weight of Gabonese elephants was _less_ than the average weight of African elephants at a significance level of 0.05?\n",
    "\n",
    "**What are the null and alternative hypothesis in this case?**\n",
    "\n",
    "**What kind of test do we need to run?**\n",
    "\n",
    "**What's the critical test statistic value we should use?**\n",
    "\n",
    "**Perform the test and make a decision regarding the null hypothesis.**\n",
    "\n",
    "Would we be able to reject the null hypothesis in this case if the significance level was $\\alpha = 0.01$?"
   ]
  },
  {
   "cell_type": "markdown",
   "metadata": {
    "slideshow": {
     "slide_type": "notes"
    }
   },
   "source": [
    "* Null hypothesis\n",
    "    * The weight of Gabonese elephants is not different than the weight of African elephants.\n",
    "\n",
    "* Alternative hypothesis\n",
    "    * The weight of Gabonese elephants is less than the weight of African elephants.\n",
    "- - - \n",
    "\n",
    "We need to run a lower-tailed one-sample z-test. "
   ]
  },
  {
   "cell_type": "code",
   "execution_count": 6,
   "metadata": {
    "slideshow": {
     "slide_type": "notes"
    }
   },
   "outputs": [
    {
     "data": {
      "text/plain": [
       "-1.6448536269514729"
      ]
     },
     "execution_count": 6,
     "metadata": {},
     "output_type": "execute_result"
    }
   ],
   "source": [
    "z_critical = stats.norm.ppf(0.05)\n",
    "z_critical"
   ]
  },
  {
   "cell_type": "code",
   "execution_count": 7,
   "metadata": {
    "slideshow": {
     "slide_type": "notes"
    }
   },
   "outputs": [
    {
     "name": "stdout",
     "output_type": "stream",
     "text": [
      "-2.386152179183512\n"
     ]
    }
   ],
   "source": [
    "# compute the z-statistic\n",
    "n = 35\n",
    "sigma = 900\n",
    "\n",
    "x_bar = 8637\n",
    "mu = 9000\n",
    "\n",
    "se = sigma/np.sqrt(n)\n",
    "z = (x_bar - mu)/se\n",
    "print(z)"
   ]
  },
  {
   "cell_type": "markdown",
   "metadata": {
    "slideshow": {
     "slide_type": "notes"
    }
   },
   "source": [
    "> Our z-statistic is smaller than the critical z-statistic, thus we can reject the null hypothesis in favor of the alternative, at a significance level of 0.05. \n",
    "\n",
    "Alternatively:"
   ]
  },
  {
   "cell_type": "code",
   "execution_count": 8,
   "metadata": {
    "slideshow": {
     "slide_type": "notes"
    }
   },
   "outputs": [
    {
     "data": {
      "text/plain": [
       "0.008512852080791552"
      ]
     },
     "execution_count": 8,
     "metadata": {},
     "output_type": "execute_result"
    }
   ],
   "source": [
    "stats.norm.cdf(z)"
   ]
  },
  {
   "cell_type": "markdown",
   "metadata": {
    "slideshow": {
     "slide_type": "notes"
    }
   },
   "source": [
    ">The area under the tail corresponding to this z-score is below 0.05. Thus we can reject the null in favor of the alternative hypothesis at $\\alpha =0.05$. "
   ]
  },
  {
   "cell_type": "markdown",
   "metadata": {
    "slideshow": {
     "slide_type": "notes"
    }
   },
   "source": [
    "> We would be able to reject the null hypothesis at $\\alpha = 0.01$, since the area under the tail corresponding to our z-statistic is smaller than 0.01 (our critical value lies in the rejection region). "
   ]
  },
  {
   "cell_type": "markdown",
   "metadata": {
    "slideshow": {
     "slide_type": "notes"
    }
   },
   "source": [
    "**Note to instructors:**\n",
    "\n",
    "Thus far, students have performed a lower-tail one-sample z-test and a two-tailed one-sample z-test, for significance levels $\\alpha = 0.05$ and $\\alpha = 0.01$. \n",
    "\n",
    "The only one of these tests where they should have failed to reject the null hypothesis is for the two-tailed one-sample z-test at $\\alpha=0.01$. \n",
    "\n",
    "> We can have the same sample data, but if the hypothesis test we're performing is different and/or if the significance level we want to test is different, we may make different decisions. \n",
    "\n",
    "> Lower values for the significance threshold $\\alpha$ place more stringent requirements on the evidence we need to reject the null hypothesis."
   ]
  },
  {
   "cell_type": "markdown",
   "metadata": {
    "slideshow": {
     "slide_type": "slide"
    }
   },
   "source": [
    "# Hypothesis testing \n",
    "\n",
    "Regardless of the type of statistical hypothesis test you're performing, there are five main steps to executing them:\n",
    "\n",
    "1. Set up a null and alternative hypothesis \n",
    "\n",
    "2. Choose a significance level $\\alpha$ (or use the one assigned). \n",
    "\n",
    "3. Determine the critical test statistic value or p-value. Find the rejection region.\n",
    "\n",
    "4. Calculate the value of the test statistic. \n",
    "\n",
    "5. Compare the test statistic value to the critical test statistic value to reject the null hypothesis or not."
   ]
  },
  {
   "cell_type": "markdown",
   "metadata": {
    "slideshow": {
     "slide_type": "notes"
    }
   },
   "source": [
    "# Language of Hypothesis testing \n",
    "\n",
    "**Significance Level $\\alpha$**\n",
    "\n",
    "The significance level $\\alpha$ is the threshold at which you're okay with rejecting the null hypothesis. It is the probability of rejecting the null hypothesis when it is true. \n",
    "\n",
    "The most commonly used $\\alpha$ in science is $\\alpha = 0.05$. When you set $\\alpha = 0.05$, you're saying \"I'm okay with rejecting the null hypothesis if there is less than a 5% chance that the results I am seeing are actually due to randomness\". \n",
    "\n",
    "**p-values**\n",
    "\n",
    "The p-value is the probability of observing a test statistic at least as large as the one observed, by random chance, assuming that the null hypothesis is true. \n",
    "\n",
    "If $p \\lt \\alpha$, we reject the null hypothesis. \n",
    "\n",
    "If $p \\geq \\alpha$, we fail to reject the null hypothesis.\n",
    "\n",
    "> **We do not accept the alternative hypothesis, we only reject or fail to reject the null hypothesis in favor of the alternative.**\n",
    "\n",
    "\n",
    "**What if the experiment we perform fails to reject the null hypothesis?**\n",
    "\n",
    "* We do not throw out failed experiments! \n",
    "* We say \"this methodology, with this data, does not produce significant results\" \n",
    "    * Maybe we need more data!"
   ]
  },
  {
   "cell_type": "markdown",
   "metadata": {
    "slideshow": {
     "slide_type": "slide"
    }
   },
   "source": [
    "# z-tests vs t-tests\n",
    "\n",
    "According to the **Central Limit Theorem**, the sampling distribution of a statistic, like the sample mean, will follow a normal distribution _as long as the sample size is sufficiently large_. \n",
    "\n",
    "When we know the standard deviation of the population, and the size of our sample is large enough ($n > 30$, where n is sample size) we can compute a z-statistic for our sample, and we can use the normal distribution to evaluate probabilities with the sample mean.  \n",
    "\n",
    "$$\\text{z-statistic} = \\frac{num}{denom}$$\n"
   ]
  },
  {
   "cell_type": "markdown",
   "metadata": {
    "slideshow": {
     "slide_type": "slide"
    }
   },
   "source": [
    "However, sometimes sample sizes are small (size < 30), and many times we do not know the standard deviation of the population. \n",
    "\n",
    "When sample sizes are small, the sampling distribution of a statistic like the sample mean will follow a _Student's t-distribution_. \n",
    "\n",
    "In the image below, we show a t-distribution with one degree of freedom (in blue) plotted alongside a standard normal distribution (dashed black line).  Notice how the t-distribution has heavier tails than the standard normal distribution.\n",
    "\n",
    "<img src=\"images/df_01.png\" width=\"500\">"
   ]
  },
  {
   "cell_type": "markdown",
   "metadata": {
    "slideshow": {
     "slide_type": "slide"
    }
   },
   "source": [
    "When sample sizes are small or we do not know the standard deviation of the population, we compute the t-statistic of the sample, and use the t-distribution to evaluate probabilities with the sample mean.\n",
    "\n",
    "$$\\text{t-statistic} = \\frac{num}{denom}$$\n"
   ]
  },
  {
   "cell_type": "markdown",
   "metadata": {
    "slideshow": {
     "slide_type": "notes"
    }
   },
   "source": [
    "When sample sizes are small, the sampling distribution of a statistic like the sample mean will not follow a normal distribution; it will follow a _Student's t-distribution_. When you take smaller samples, you can expect greater sample variance. The t-distribution has fatter/heavier tails than the normal distribution, and as such is appropriate for this situation. "
   ]
  },
  {
   "cell_type": "markdown",
   "metadata": {
    "slideshow": {
     "slide_type": "slide"
    }
   },
   "source": [
    "## Should I run a z-test or a t-test? \n",
    "\n",
    "<img src=\"images/z_or_t_test.png\" width=\"500\">\n"
   ]
  },
  {
   "cell_type": "markdown",
   "metadata": {
    "slideshow": {
     "slide_type": "notes"
    }
   },
   "source": [
    "## Compare and contrast z-tests and t-tests. \n",
    "In both cases, it is assumed that the samples are normally distributed. \n",
    "\n",
    "A t-test is like a modified z-test:\n",
    "1. Penalize for small sample size; use \"degrees of freedom\" \n",
    "2. Use the _sample_ standard deviation $s$ to estimate the population standard deviation $\\sigma$. \n",
    "\n",
    "T-distributions have more probability in the tails. As the sample size increases, this decreases and the t distribution more closely resembles the z, or standard normal, distribution. By sample size n = 1000 they are virtually indistinguishable from each other. "
   ]
  },
  {
   "cell_type": "markdown",
   "metadata": {
    "slideshow": {
     "slide_type": "slide"
    }
   },
   "source": [
    "# More information about t-tests"
   ]
  },
  {
   "cell_type": "markdown",
   "metadata": {
    "slideshow": {
     "slide_type": "notes"
    }
   },
   "source": [
    "* One sample and two sample t-tests: what's the difference? "
   ]
  },
  {
   "cell_type": "markdown",
   "metadata": {
    "slideshow": {
     "slide_type": "slide"
    }
   },
   "source": [
    "# Examples"
   ]
  },
  {
   "cell_type": "markdown",
   "metadata": {
    "slideshow": {
     "slide_type": "slide"
    }
   },
   "source": [
    "Given the following data, we want to know if the sample is different from the population at $\\alpha=0.05$ \n",
    "\n",
    "```python\n",
    "population_mean = 85\n",
    "sample = [90, 100, 110]\n",
    "```"
   ]
  },
  {
   "cell_type": "code",
   "execution_count": 9,
   "metadata": {
    "slideshow": {
     "slide_type": "notes"
    }
   },
   "outputs": [],
   "source": [
    "population_mean = 85\n",
    "sample = [90, 100, 110]"
   ]
  },
  {
   "cell_type": "markdown",
   "metadata": {
    "slideshow": {
     "slide_type": "slide"
    }
   },
   "source": [
    "**State the null and alternative hypothesis**"
   ]
  },
  {
   "cell_type": "markdown",
   "metadata": {
    "slideshow": {
     "slide_type": "notes"
    }
   },
   "source": [
    "> Null hypothesis: $H_0$: The sample mean is the same as the population mean. \n",
    "\n",
    "> Alternative hypothesis: $H_1$: The sample mean is not the same as the population mean. "
   ]
  },
  {
   "cell_type": "markdown",
   "metadata": {
    "slideshow": {
     "slide_type": "slide"
    }
   },
   "source": [
    "**What type of hypothesis test do we want to perform and why?**"
   ]
  },
  {
   "cell_type": "markdown",
   "metadata": {
    "slideshow": {
     "slide_type": "notes"
    }
   },
   "source": [
    "> We want to perform a two-tailed one-sample t-test. We do not know the population standard deviation, so we need to estimate it, and our sample size is small (n = 3). "
   ]
  },
  {
   "cell_type": "markdown",
   "metadata": {
    "slideshow": {
     "slide_type": "slide"
    }
   },
   "source": [
    "**What's the critical test statistic?** "
   ]
  },
  {
   "cell_type": "code",
   "execution_count": 18,
   "metadata": {
    "slideshow": {
     "slide_type": "notes"
    }
   },
   "outputs": [
    {
     "name": "stdout",
     "output_type": "stream",
     "text": [
      "4.302652729911275\n"
     ]
    }
   ],
   "source": [
    "t_critical = stats.t.ppf(q=0.975, df=df)\n",
    "print(t_critical)"
   ]
  },
  {
   "cell_type": "markdown",
   "metadata": {
    "slideshow": {
     "slide_type": "slide"
    }
   },
   "source": [
    "**Perform the test.**"
   ]
  },
  {
   "cell_type": "code",
   "execution_count": 19,
   "metadata": {
    "slideshow": {
     "slide_type": "notes"
    }
   },
   "outputs": [
    {
     "data": {
      "text/plain": [
       "Ttest_1sampResult(statistic=2.5980762113533156, pvalue=0.12168993434632014)"
      ]
     },
     "execution_count": 19,
     "metadata": {},
     "output_type": "execute_result"
    }
   ],
   "source": [
    "# Using scipy\n",
    "stats.ttest_1samp(a=sample, popmean=population_mean)"
   ]
  },
  {
   "cell_type": "code",
   "execution_count": 20,
   "metadata": {
    "slideshow": {
     "slide_type": "notes"
    }
   },
   "outputs": [
    {
     "name": "stdout",
     "output_type": "stream",
     "text": [
      "2.5980762113533156\n",
      "2\n"
     ]
    }
   ],
   "source": [
    "# By \"hand\"\n",
    "mu = 85 \n",
    "x_bar = np.mean(sample)\n",
    "n = len(sample)\n",
    "s = np.std(sample, ddof=1)\n",
    "df = n-1\n",
    "\n",
    "t = (x_bar - mu)/(s/n**0.5)\n",
    "print(t)\n",
    "print(df)"
   ]
  },
  {
   "cell_type": "markdown",
   "metadata": {
    "slideshow": {
     "slide_type": "slide"
    }
   },
   "source": [
    "**Can we reject the null hypothesis?**"
   ]
  },
  {
   "cell_type": "markdown",
   "metadata": {
    "slideshow": {
     "slide_type": "notes"
    }
   },
   "source": [
    "> No. We fail to reject the null hypothesis at $\\alpha=0.05$ because the value of our t-statistic does not lie in the rejection region for the hypothesis test. "
   ]
  },
  {
   "cell_type": "markdown",
   "metadata": {
    "slideshow": {
     "slide_type": "slide"
    }
   },
   "source": [
    "# Another example\n",
    "\n",
    "I'm buying jeans from store A and store B. I know nothing about their inventory other than prices. \n",
    "\n",
    "``` python\n",
    "store1 = [20,30,30,50,75,25,30,30,40,80]\n",
    "store2 = [60,30,70,90,60,40,70,40]\n",
    "```\n",
    "\n",
    "Should I go just to one store for a less expensive pair of jeans? I'm pretty apprehensive about my decision, so $\\alpha = 0.1$. It's okay to assume the samples have equal variances."
   ]
  },
  {
   "cell_type": "markdown",
   "metadata": {
    "slideshow": {
     "slide_type": "slide"
    }
   },
   "source": [
    "**State the null and alternative hypotheses**"
   ]
  },
  {
   "cell_type": "markdown",
   "metadata": {
    "slideshow": {
     "slide_type": "notes"
    }
   },
   "source": [
    "> Null: Store A and B have the same jean prices. \n",
    "\n",
    "> Alternative: Store A and B do not have the same jean prices. "
   ]
  },
  {
   "cell_type": "markdown",
   "metadata": {
    "slideshow": {
     "slide_type": "slide"
    }
   },
   "source": [
    "**What kind of test should we run? Why?** "
   ]
  },
  {
   "cell_type": "markdown",
   "metadata": {
    "slideshow": {
     "slide_type": "notes"
    }
   },
   "source": [
    "> Run a two-tailed two independent sample t-test. Sample sizes are small. "
   ]
  },
  {
   "cell_type": "markdown",
   "metadata": {
    "slideshow": {
     "slide_type": "slide"
    }
   },
   "source": [
    "**Perform the test.**"
   ]
  },
  {
   "cell_type": "code",
   "execution_count": 21,
   "metadata": {
    "slideshow": {
     "slide_type": "notes"
    }
   },
   "outputs": [
    {
     "data": {
      "text/plain": [
       "Ttest_indResult(statistic=-1.70113828065953, pvalue=0.10826653002468378)"
      ]
     },
     "execution_count": 21,
     "metadata": {},
     "output_type": "execute_result"
    }
   ],
   "source": [
    "store1 = [20,30,30,50,75,25,30,30,40,80]\n",
    "store2 = [60,30,70,90,60,40,70,40]\n",
    "\n",
    "stats.ttest_ind(store1, store2)"
   ]
  },
  {
   "cell_type": "markdown",
   "metadata": {
    "slideshow": {
     "slide_type": "slide"
    }
   },
   "source": [
    "**Make decision.**"
   ]
  },
  {
   "cell_type": "markdown",
   "metadata": {
    "slideshow": {
     "slide_type": "notes"
    }
   },
   "source": [
    "> We fail to reject the null hypothesis at a significance level of $\\alpha = 0.1$. We do not have evidence to support that jean prices are different in store A and store B. "
   ]
  },
  {
   "cell_type": "markdown",
   "metadata": {
    "slideshow": {
     "slide_type": "slide"
    }
   },
   "source": [
    "# More practice!\n",
    "\n",
    "A rental car company claims the mean time to rent a car on their website is 60 seconds with a standard deviation of 30 seconds. A random sample of 36 customers attempted to rent a car on the website. The mean time to rent was 75 seconds. Is this enough evidence to contradict the company's claim at a significance level of $\\alpha = 0.05$? "
   ]
  },
  {
   "cell_type": "markdown",
   "metadata": {
    "slideshow": {
     "slide_type": "notes"
    }
   },
   "source": [
    "We know the population standard deviation and our sample size n $\\geq$ 30. \n",
    "* We are going to perform a two-tailed one-sample z-test at a significance level of $\\alpha=0.05$. \n",
    "\n",
    "Null hypothesis: There is no difference in the mean time to rent of the sample and the claim by the rental company. \n",
    "\n",
    "Alternative hypothesis: There is a difference in the mean time to rent of the sample and the claim by the rental company. \n",
    "\n",
    "For a two-sided one-sample test and $\\alpha = 0.05$, the critical z-scores are -1.96 and 1.96. That is, if our computed z-statistic is below -1.96 or above 1.96, we have enough evidence to reject the null hypothesis in favor of the alternative.\n",
    "\n"
   ]
  },
  {
   "cell_type": "code",
   "execution_count": 22,
   "metadata": {
    "slideshow": {
     "slide_type": "notes"
    }
   },
   "outputs": [
    {
     "name": "stdout",
     "output_type": "stream",
     "text": [
      "3.0\n"
     ]
    }
   ],
   "source": [
    "# one-sample z-test \n",
    "z = (75 - 60)/(30/np.sqrt(36))\n",
    "print(z)"
   ]
  },
  {
   "cell_type": "markdown",
   "metadata": {
    "slideshow": {
     "slide_type": "notes"
    }
   },
   "source": [
    "The z-statistic is greater than 1.96, thus we can reject the null hypothesis in favor of the alternative hypothesis, at $\\alpha = 0.05$.  "
   ]
  },
  {
   "cell_type": "markdown",
   "metadata": {
    "slideshow": {
     "slide_type": "slide"
    }
   },
   "source": [
    "# More practice!\n",
    "\n",
    "A coffee shop relocates from Manhattan to Brooklyn and wants to make sure that all lattes are consistent. They believe each latte has 4 oz of espresso. A random sample of 25 lattes shows a mean of 4.6 oz and standard deviation of 0.22 oz. Are their lattes different now that they've relocated to Brooklyn? Use alpha = 0.01. "
   ]
  },
  {
   "cell_type": "markdown",
   "metadata": {
    "slideshow": {
     "slide_type": "notes"
    }
   },
   "source": [
    "State null and alternative hypothesis\n",
    "1. Null: the amount of espresso in the lattes is the same as before \n",
    "2. Alternative: the amount of espresso in the lattes is different \n",
    "\n",
    "What kind of test? \n",
    "* two-tailed one-sample t-test\n",
    "    * small sample size\n",
    "    * unknown population standard deviation \n",
    "    * two-tailed because we want to know if amounts are same or different "
   ]
  },
  {
   "cell_type": "code",
   "execution_count": 23,
   "metadata": {
    "slideshow": {
     "slide_type": "notes"
    }
   },
   "outputs": [
    {
     "data": {
      "text/plain": [
       "13.63636363636363"
      ]
     },
     "execution_count": 23,
     "metadata": {},
     "output_type": "execute_result"
    }
   ],
   "source": [
    "x_bar = 4.6 \n",
    "mu = 4 \n",
    "s = 0.22 \n",
    "n = 25 \n",
    "\n",
    "df = n-1\n",
    "\n",
    "t = (x_bar - mu)/(s/n**0.5)\n",
    "t"
   ]
  },
  {
   "cell_type": "code",
   "execution_count": 24,
   "metadata": {
    "slideshow": {
     "slide_type": "notes"
    }
   },
   "outputs": [
    {
     "data": {
      "text/plain": [
       "(-2.796939504772805, 2.796939504772804)"
      ]
     },
     "execution_count": 24,
     "metadata": {},
     "output_type": "execute_result"
    }
   ],
   "source": [
    "# critical t-statistic values\n",
    "stats.t.ppf(0.005, df), stats.t.ppf(1-0.005, df)"
   ]
  },
  {
   "cell_type": "markdown",
   "metadata": {
    "slideshow": {
     "slide_type": "notes"
    }
   },
   "source": [
    "Can we reject the null hypothesis? \n",
    "\n",
    "> Yes. t > |t_critical|. we can reject the null hypothesis in favor of the alternative at $\\alpha = 0.01$. "
   ]
  },
  {
   "cell_type": "markdown",
   "metadata": {
    "slideshow": {
     "slide_type": "slide"
    }
   },
   "source": [
    "# Another example..."
   ]
  },
  {
   "cell_type": "markdown",
   "metadata": {
    "slideshow": {
     "slide_type": "slide"
    }
   },
   "source": [
    "You measure the delivery times of ten different restaurants in two different neighborhoods. You want to know if restaurants in the different neighborhoods have similar delivery times. It's okay to assume both samples have equal variances. Set your significance threshold to 0.05. \n",
    "\n",
    "``` python\n",
    "delivery_times_A = [28.4, 23.3, 30.4, 28.1, 29.4, 30.6, 27.8, 30.9, 27.0, 32.8]\n",
    "delivery_times_B = [26.4, 26.3, 27.4, 30.4, 25.1, 28.4, 23.3, 24.7, 31.8, 24.3]\n",
    "```"
   ]
  },
  {
   "cell_type": "markdown",
   "metadata": {
    "slideshow": {
     "slide_type": "notes"
    }
   },
   "source": [
    "State null and alternative hypothesis. What type of test should we perform? "
   ]
  },
  {
   "cell_type": "markdown",
   "metadata": {
    "slideshow": {
     "slide_type": "notes"
    }
   },
   "source": [
    "> Null hypothesis: The delivery times for restaurants in neighborhood A are equal to delivery times for restaurants in neighborhood B. \n",
    "\n",
    "> Alternative hypothesis: Delivery times for restaurants in neighborhood A are not equal to delivery times for restaurants in neighborhood B. \n",
    "\n",
    "> Two-sided unpaired two-sample t-test"
   ]
  },
  {
   "cell_type": "code",
   "execution_count": 25,
   "metadata": {
    "slideshow": {
     "slide_type": "notes"
    }
   },
   "outputs": [],
   "source": [
    "delivery_times_A = [28.4, 23.3, 30.4, 28.1, 29.4, 30.6, 27.8, 30.9, 27.0, 32.8]\n",
    "delivery_times_B = [26.4, 26.3, 27.4, 30.4, 25.1, 28.4, 23.3, 24.7, 31.8, 24.3]"
   ]
  },
  {
   "cell_type": "code",
   "execution_count": 26,
   "metadata": {
    "slideshow": {
     "slide_type": "notes"
    }
   },
   "outputs": [
    {
     "data": {
      "text/plain": [
       "Ttest_indResult(statistic=1.7223240113288751, pvalue=0.10214880648482656)"
      ]
     },
     "execution_count": 26,
     "metadata": {},
     "output_type": "execute_result"
    }
   ],
   "source": [
    "stats.ttest_ind(delivery_times_A, delivery_times_B)"
   ]
  },
  {
   "cell_type": "markdown",
   "metadata": {
    "slideshow": {
     "slide_type": "notes"
    }
   },
   "source": [
    "We cannot reject the null hypothesis that restaurant A and B have equal delivery times. p-value > $\\alpha$. "
   ]
  },
  {
   "cell_type": "markdown",
   "metadata": {
    "slideshow": {
     "slide_type": "slide"
    }
   },
   "source": [
    "# More practice!\n",
    "\n",
    "Consider the gain in weight (in grams) of 19 female rats between 28 and 84 days after birth. \n",
    "\n",
    "Twelve rats were fed on a high protein diet and seven rats were fed on a low protein diet.\n",
    "\n",
    "``` python\n",
    "high_protein = [134, 146, 104, 119, 124, 161, 107, 83, 113, 129, 97, 123]\n",
    "low_protein = [70, 118, 101, 85, 107, 132, 94]\n",
    "```\n",
    "\n",
    "Is there any difference in the weight gain of rats fed on high protein diet vs low protein diet? It's OK to assume equal sample variances. "
   ]
  },
  {
   "cell_type": "markdown",
   "metadata": {
    "slideshow": {
     "slide_type": "notes"
    }
   },
   "source": [
    "Null and alternative hypotheses? "
   ]
  },
  {
   "cell_type": "markdown",
   "metadata": {
    "slideshow": {
     "slide_type": "notes"
    }
   },
   "source": [
    "> null: there is no difference in the weight gain of rats who were fed a high protein diet vs a low protein diet \n",
    "\n",
    "> alternative: weight gains differ by kind of diet "
   ]
  },
  {
   "cell_type": "markdown",
   "metadata": {
    "slideshow": {
     "slide_type": "notes"
    }
   },
   "source": [
    "Kind of test and why?"
   ]
  },
  {
   "cell_type": "markdown",
   "metadata": {
    "slideshow": {
     "slide_type": "notes"
    }
   },
   "source": [
    "> Two-sided unpaired two-sample t-test. Low sample size."
   ]
  },
  {
   "cell_type": "code",
   "execution_count": 28,
   "metadata": {
    "slideshow": {
     "slide_type": "notes"
    }
   },
   "outputs": [
    {
     "data": {
      "text/plain": [
       "Ttest_indResult(statistic=1.89143639744233, pvalue=0.07573012895667763)"
      ]
     },
     "execution_count": 28,
     "metadata": {},
     "output_type": "execute_result"
    }
   ],
   "source": [
    "stats.ttest_ind(high_protein, low_protein) #two-tailed test"
   ]
  },
  {
   "cell_type": "markdown",
   "metadata": {
    "slideshow": {
     "slide_type": "notes"
    }
   },
   "source": [
    "We fail to reject the null hypothesis at a significance level of $\\alpha = 0.05$. "
   ]
  },
  {
   "cell_type": "markdown",
   "metadata": {
    "slideshow": {
     "slide_type": "slide"
    }
   },
   "source": [
    "**What if we wanted to test if the rats who ate a high protein diet gained more weight than those who ate a low-protein diet?**"
   ]
  },
  {
   "cell_type": "markdown",
   "metadata": {
    "slideshow": {
     "slide_type": "notes"
    }
   },
   "source": [
    "Null: weight gain by rats who ate high protein diet same as weight gain of low protein diet rats \n",
    "\n",
    "alternative: weight gain by rats who ate high protein diet greater than weight gain of low protein diet rats "
   ]
  },
  {
   "cell_type": "markdown",
   "metadata": {
    "slideshow": {
     "slide_type": "notes"
    }
   },
   "source": [
    "Kind of test? One-sided unpaired two-sample test "
   ]
  },
  {
   "cell_type": "markdown",
   "metadata": {
    "slideshow": {
     "slide_type": "notes"
    }
   },
   "source": [
    "Critical test statistic value? "
   ]
  },
  {
   "cell_type": "code",
   "execution_count": 30,
   "metadata": {
    "slideshow": {
     "slide_type": "notes"
    }
   },
   "outputs": [
    {
     "data": {
      "text/plain": [
       "1.7396067260750672"
      ]
     },
     "execution_count": 30,
     "metadata": {},
     "output_type": "execute_result"
    }
   ],
   "source": [
    "stats.t.ppf(q=0.95, df = len(high_protein)+len(low_protein)-2) #critical t-statistic "
   ]
  },
  {
   "cell_type": "markdown",
   "metadata": {
    "slideshow": {
     "slide_type": "notes"
    }
   },
   "source": [
    "We can reject the null hypothesis in favor of the alternative at alpha = 0.05 (one-sided test). \n",
    "The value of t-statistic lies in rejection region. "
   ]
  }
 ],
 "metadata": {
  "celltoolbar": "Slideshow",
  "kernelspec": {
   "display_name": "Python [conda env:learn-env] *",
   "language": "python",
   "name": "conda-env-learn-env-py"
  },
  "language_info": {
   "codemirror_mode": {
    "name": "ipython",
    "version": 3
   },
   "file_extension": ".py",
   "mimetype": "text/x-python",
   "name": "python",
   "nbconvert_exporter": "python",
   "pygments_lexer": "ipython3",
   "version": "3.6.6"
  },
  "toc": {
   "base_numbering": 1,
   "nav_menu": {},
   "number_sections": true,
   "sideBar": true,
   "skip_h1_title": false,
   "title_cell": "Table of Contents",
   "title_sidebar": "Contents",
   "toc_cell": false,
   "toc_position": {},
   "toc_section_display": true,
   "toc_window_display": false
  }
 },
 "nbformat": 4,
 "nbformat_minor": 2
}
