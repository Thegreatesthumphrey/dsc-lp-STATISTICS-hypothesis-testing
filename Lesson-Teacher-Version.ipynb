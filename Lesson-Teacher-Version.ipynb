{
 "cells": [
  {
   "cell_type": "markdown",
   "metadata": {
    "slideshow": {
     "slide_type": "slide"
    }
   },
   "source": [
    "# Hypothesis testing \n",
    "\n",
    "Often the confirmation of some testing or alternative hypothesis $H_1$ is a relative affair, where it is measured against some null hypothesis $H_0$. \n",
    "\n",
    "* If an alternative hypothesis states that there is some significant relationship between two variables, then the null hypothesis states there is no relationship. \n",
    "\n",
    "\n",
    "# p-values \n",
    "\n",
    "The p-value quantifies the probability that observed results are the result of random chance. \n",
    "\n",
    "If the null hypothesis is true and there is no significant correlation between the population variables X and Y, then any correlation between X and Y observed in our sample would have to be the result of random chance. "
   ]
  },
  {
   "cell_type": "markdown",
   "metadata": {},
   "source": [
    "# Statistical testing: Example"
   ]
  },
  {
   "cell_type": "markdown",
   "metadata": {
    "slideshow": {
     "slide_type": "slide"
    }
   },
   "source": [
    "Suppose we are told that African elephants have weights distributed normally around a mean of 9000 lbs, with a standard deviation of 900 lbs. \n",
    "\n",
    "Pachyderm Adventures has recently measured the weights of 25 African elephants in Gabon and has calculated their average weight as 8637 lbs. \n",
    "\n",
    "They claim that these statistics on the Gabonese elephants are significant. Are they correct? "
   ]
  },
  {
   "cell_type": "markdown",
   "metadata": {},
   "source": [
    "## What's the null hypothesis in this problem?  What is the alternative hypothesis? "
   ]
  },
  {
   "cell_type": "markdown",
   "metadata": {},
   "source": [
    "$H_0$: The average weight of Gabonese elephants is the same as the other elephants' average weight. \n",
    "\n",
    "$H_1$: The average weight of Gabonese elephants is not the same as the other elephants' average weight. "
   ]
  },
  {
   "cell_type": "markdown",
   "metadata": {},
   "source": [
    "## What kind of statistical test should we perform here? "
   ]
  },
  {
   "cell_type": "markdown",
   "metadata": {},
   "source": [
    "> Two-tailed one-sample z-test\n",
    "* One-sample z-test: We are comparing the mean of a set of measurements to a given population mean and population standard deviation\n",
    "* Two-tailed: our alternative hypothesis is that the average weight of Gabonese elephants is not the same as the other elephants' weights; this means we want to test is the average weight is smaller or larger than the other elephants' average weight. "
   ]
  },
  {
   "cell_type": "markdown",
   "metadata": {},
   "source": [
    "## Compute the test statistic"
   ]
  },
  {
   "cell_type": "code",
   "execution_count": 2,
   "metadata": {},
   "outputs": [],
   "source": [
    "import numpy as np"
   ]
  },
  {
   "cell_type": "code",
   "execution_count": 3,
   "metadata": {},
   "outputs": [],
   "source": [
    "x_bar = 8637\n",
    "n = 25\n",
    "mu = 9000\n",
    "sigma = 900\n",
    "\n",
    "z_statistic = (x_bar - mu)/(sigma/np.sqrt(n))"
   ]
  },
  {
   "cell_type": "code",
   "execution_count": 4,
   "metadata": {},
   "outputs": [
    {
     "data": {
      "text/plain": [
       "-2.0166666666666666"
      ]
     },
     "execution_count": 4,
     "metadata": {},
     "output_type": "execute_result"
    }
   ],
   "source": [
    "z_statistic"
   ]
  },
  {
   "cell_type": "markdown",
   "metadata": {},
   "source": [
    "## What significance threshold should we use? "
   ]
  },
  {
   "cell_type": "markdown",
   "metadata": {},
   "source": [
    "We actually do not know what significance threshold Pachyderm Adventures used to make their claim of significance! \n",
    "\n",
    "**Let's use a significance level of $\\alpha = 0.05$.**"
   ]
  },
  {
   "cell_type": "markdown",
   "metadata": {},
   "source": [
    "## What is the critical value of the test statistic that we should compare our test statistic against? "
   ]
  },
  {
   "cell_type": "markdown",
   "metadata": {},
   "source": [
    "Since we are performing a two-tailed one-sample z-test and have set our significance threshold at $\\alpha = 0.05$, we would reject the null hypothesis if the test statistic falls within the critical region in the upper or lower tails of a standard normal distribution. \n",
    "\n",
    "To achieve a significance level of $\\alpha = 0.05$, the critical region in each tail, lower and upper, must have an area under the curve of 0.025. \n",
    "\n",
    "The critical values of the z-statistic for a two-sided test annd $\\alpha = 0.05$ are $\\pm$ 1.96. "
   ]
  },
  {
   "cell_type": "markdown",
   "metadata": {},
   "source": [
    "## Is Pachyderm Adventures correct? "
   ]
  },
  {
   "cell_type": "markdown",
   "metadata": {},
   "source": [
    "The z-statistic we computed is -2.02 (rounded to two decimal places). This value is less than -1.96, so we have enough evidence to reject the null hypothesis at a significance level of $\\alpha = 0.05$. \n",
    "\n",
    "(We actually do not know if Pachyderm Adventures is right or not, because they didn't specify the significance threshold they used to make their claim!)"
   ]
  },
  {
   "cell_type": "markdown",
   "metadata": {},
   "source": [
    "## Another way to compute this: "
   ]
  },
  {
   "cell_type": "code",
   "execution_count": 5,
   "metadata": {},
   "outputs": [],
   "source": [
    "from scipy import stats"
   ]
  },
  {
   "cell_type": "code",
   "execution_count": 6,
   "metadata": {},
   "outputs": [
    {
     "data": {
      "text/plain": [
       "0.021865155367929986"
      ]
     },
     "execution_count": 6,
     "metadata": {},
     "output_type": "execute_result"
    }
   ],
   "source": [
    "stats.norm.cdf(z_statistic)"
   ]
  },
  {
   "cell_type": "markdown",
   "metadata": {},
   "source": [
    "* The area of tail corresponding to the z_statistic we computed is 2.2%. This is less than the threshold of 2.5%, so we have enough evidence to reject the null hypothesis at a significance level of $\\alpha = 0.05$. "
   ]
  },
  {
   "cell_type": "markdown",
   "metadata": {},
   "source": [
    "# Summary\n",
    "\n",
    "Key takeaways:\n",
    "\n",
    "1. "
   ]
  }
 ],
 "metadata": {
  "kernelspec": {
   "display_name": "Python [conda env:learn-env] *",
   "language": "python",
   "name": "conda-env-learn-env-py"
  },
  "language_info": {
   "codemirror_mode": {
    "name": "ipython",
    "version": 3
   },
   "file_extension": ".py",
   "mimetype": "text/x-python",
   "name": "python",
   "nbconvert_exporter": "python",
   "pygments_lexer": "ipython3",
   "version": "3.6.6"
  },
  "toc": {
   "base_numbering": 1,
   "nav_menu": {},
   "number_sections": true,
   "sideBar": true,
   "skip_h1_title": false,
   "title_cell": "Table of Contents",
   "title_sidebar": "Contents",
   "toc_cell": false,
   "toc_position": {},
   "toc_section_display": true,
   "toc_window_display": false
  }
 },
 "nbformat": 4,
 "nbformat_minor": 2
}
